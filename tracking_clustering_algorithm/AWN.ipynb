{
 "cells": [
  {
   "cell_type": "code",
   "execution_count": 572,
   "metadata": {},
   "outputs": [],
   "source": [
    "import Radar as R\n",
    "import matplotlib.pyplot as plt\n",
    "import numpy as np\n",
    "import subprocess\n",
    "import os\n",
    "import time\n",
    "import argparse\n",
    "import pandas as pd\n",
    "import time\n",
    "from pyquaternion import Quaternion\n",
    "from numpy import genfromtxt\n",
    "import os\n",
    "from mpl_toolkits.mplot3d import Axes3D\n",
    "from sklearn.cluster import DBSCAN\n",
    "from sklearn import metrics\n",
    "import pandas as pd\n",
    "from pyquaternion import Quaternion\n",
    "from numpy.linalg import norm\n",
    "import math\n",
    "import importlib"
   ]
  },
  {
   "cell_type": "code",
   "execution_count": 573,
   "metadata": {},
   "outputs": [
    {
     "data": {
      "text/plain": [
       "<module 'Radar' from '/Users/shannonholmes/Desktop/Python Programs/AWN/Radar.py'>"
      ]
     },
     "execution_count": 573,
     "metadata": {},
     "output_type": "execute_result"
    }
   ],
   "source": [
    "importlib.reload(R)"
   ]
  },
  {
   "cell_type": "code",
   "execution_count": 574,
   "metadata": {},
   "outputs": [],
   "source": [
    "frame_num = '1'\n",
    "Frame_time = 0\n",
    "## initialization ##\n",
    "Cluster_dict = {}\n",
    "Next_Cluster_dict = {}\n",
    "Next_Velocity_dict = {}\n",
    "## KalmanFilter for Client 1\n",
    "KalmanMeasurements = np.zeros((4,1))\n",
    "KalmanP = np.zeros((4,4,1))\n",
    "Innovation = np.zeros((2,1))\n",
    "KalmanF = np.zeros((4,2,1))\n",
    "ConditionalX = np.zeros((4,1))\n",
    "ConditionalP=np.identity(4)\n",
    "\n",
    "## KalmanFilter for Client 2 \n",
    "\n",
    "KalmanMeasurements2 = np.zeros((4,1))\n",
    "KalmanP2 = np.zeros((4,4,1))\n",
    "Innovation2 = np.zeros((2,1))\n",
    "KalmanF2 = np.zeros((4,2,1))\n",
    "ConditionalX2 = np.zeros((4,1))\n",
    "ConditionalP2 = np.identity(4)\n",
    "\n",
    "x = 0\n",
    "Microframe = 0\n",
    "client1 = R.client(0)\n",
    "client2 = R.client(1)\n",
    "\n",
    "Start_time = time.time()"
   ]
  },
  {
   "cell_type": "code",
   "execution_count": 575,
   "metadata": {},
   "outputs": [
    {
     "name": "stdout",
     "output_type": "stream",
     "text": [
      "DEBUG: Number of unique frames:  50\n"
     ]
    }
   ],
   "source": [
    "data_df = pd.read_csv('/Users/shannonholmes/Desktop/Python Programs/AWN/test2.csv')\n",
    "num_frames = data_df.iloc[:,1].nunique()\n",
    "print(\"DEBUG: Number of unique frames: \", num_frames)"
   ]
  },
  {
   "cell_type": "code",
   "execution_count": 576,
   "metadata": {},
   "outputs": [
    {
     "name": "stdout",
     "output_type": "stream",
     "text": [
      "      0.101970411  13007     0  0.476763  1.92219  -1.86371  -0.217266   2238\n",
      "0         0.10197  13007     1  0.520106  1.91091 -1.863710  -0.217266   2231\n",
      "1         0.10197  13007     2  0.476763  1.96328 -1.820370  -0.217266   2282\n",
      "2         0.10197  13007     3  0.520106  1.95225 -1.820370  -0.217266   2277\n",
      "3         0.10197  13007     4  0.476763  2.00260 -1.777030  -0.217266   2241\n",
      "4         0.10197  13007     5  0.520106  1.99178 -1.777030  -0.217266   2214\n",
      "...           ...    ...   ...       ...      ...       ...        ...    ...\n",
      "1195      0.10197  13007  1196  0.677506  4.61344 -0.752784   0.000000  43513\n",
      "1196      0.10197  13007  1197  0.225835  4.66899 -0.677506   0.000000  49086\n",
      "1197      0.10197  13007  1198  0.301114  4.66474 -0.677506   0.000000  63062\n",
      "1198      0.10197  13007  1199  0.376392  4.65927 -0.677506   0.000000  71490\n",
      "1199      0.10197  13007  1200  0.451671  4.65258 -0.677506   0.000000  71066\n",
      "\n",
      "[1200 rows x 8 columns]\n"
     ]
    }
   ],
   "source": [
    "\"\"\" data = np.array([])\n",
    "\n",
    "# Select rows with matching frame number if 1 then get the frame number from the first row in the df\n",
    "if frame_num == 1:\n",
    "    frame_num = data_df.iloc[0,1]\n",
    "\n",
    "selected_rows = data_df[data_df.iloc[:, 1] == frame_num]\n",
    "\n",
    "# Convert selected rows to numpy array\n",
    "data = np.array(selected_rows)\n",
    "print(selected_rows.index[-1])\n",
    "# Get the next frame number\n",
    "next_frame_num = data_df.iloc[selected_rows.index[-1]+1, 1]\n",
    "print(next_frame_num) ##TODO verify this is working##\n",
    "\n",
    "data = np.reshape(data, (int(len(data)/8), 8))\n",
    "data = data.astype(float) \"\"\"\n",
    "\n",
    "data = data_df[0:1200]\n",
    "print(data)"
   ]
  },
  {
   "cell_type": "code",
   "execution_count": 577,
   "metadata": {},
   "outputs": [
    {
     "name": "stdout",
     "output_type": "stream",
     "text": [
      "[0 0 0 ... 2 2 2]\n",
      "4\n"
     ]
    }
   ],
   "source": [
    "if Microframe == 0:\n",
    "    Frame = R.rframe(frame_num,data,None,None,Start_time)\n",
    "else:\n",
    "    Frame = R.rframe(frame_num,data,None,Prev_Frame,Start_time)\n",
    "\n",
    "data2 = Frame.data\n",
    "data2 = data2.iloc[:,3:6]\n",
    "db = DBSCAN(eps=0.3, min_samples=25).fit(data2)\n",
    "labels = db.labels_\n",
    "n_clusters_ = len(set(labels)) - (1 if -1 in labels else 0)  # Number of Clusters, Label 0-N\n",
    "core_samples_mask = np.zeros_like(labels, dtype=bool)\n",
    "core_samples_mask[db.core_sample_indices_] = True\n",
    "\n",
    "print(labels)\n",
    "print(n_clusters_)"
   ]
  },
  {
   "cell_type": "code",
   "execution_count": 578,
   "metadata": {},
   "outputs": [],
   "source": [
    "CorePoints = np.zeros((n_clusters_,3))\n",
    "CoreNum = np.zeros((n_clusters_))\n",
    "CoreSum = np.zeros((n_clusters_,3))\n",
    "\n",
    "for point in range(0,len(Frame.data)):\n",
    "    if labels[point] != -1:\n",
    "        CoreNum[labels[point]] = CoreNum[labels[point]] + 1\n",
    "        CoreSum[labels[point]][0] = CoreSum[labels[point]][0] + Frame.data.loc[point].iat[3]\n",
    "        CoreSum[labels[point]][1] = CoreSum[labels[point]][1] + Frame.data.loc[point].iat[4]\n",
    "        CoreSum[labels[point]][2] = CoreSum[labels[point]][2] + Frame.data.loc[point].iat[5]\n",
    "\n",
    "for corepoint_id in range(0,n_clusters_):\n",
    "    CorePoints[corepoint_id] = CoreSum[corepoint_id]/CoreNum[corepoint_id]"
   ]
  },
  {
   "cell_type": "code",
   "execution_count": 579,
   "metadata": {},
   "outputs": [
    {
     "name": "stdout",
     "output_type": "stream",
     "text": [
      "{0: array([ 0.60522164,  2.13589176, -0.9105395 ]), 1: array([ 1.57118226,  5.98173742, -0.45831769]), 2: array([ 0.47821276,  4.62249707, -0.88735821]), 3: array([0.58591127, 3.29079695, 1.81936381])}\n"
     ]
    }
   ],
   "source": [
    "Cluster_dict = Next_Cluster_dict.copy()\n",
    "\n",
    "Next_Cluster_dict = {}\n",
    "\n",
    "if Cluster_dict:\n",
    "    if len(Cluster_dict) >= n_clusters_:\n",
    "        for corepoint_id in range (0,n_clusters_):\n",
    "            Min_dis = 100\n",
    "            Min_key = 100\n",
    "            for keys in Cluster_dict:\n",
    "                dis = (Cluster_dict[keys][0]-CorePoints[corepoint_id][0])**2+(Cluster_dict[keys][1]-CorePoints[corepoint_id][1])**2\\\n",
    "                        +(Cluster_dict[keys][2]-CorePoints[corepoint_id][2])**2\n",
    "                if dis < Min_dis:\n",
    "                    Min_key = keys\n",
    "                    Min_dis = dis\n",
    "            Next_Cluster_dict[Min_key] = CorePoints[corepoint_id]\n",
    "    elif len(Cluster_dict) < n_clusters_:\n",
    "        for keys in Cluster_dict:\n",
    "            Min_dis = 100\n",
    "            Min_core_id = 100\n",
    "            for corepoint_id in range(0,n_clusters_):\n",
    "                dis = (Cluster_dict[keys][0]-CorePoints[corepoint_id][0])**2+(Cluster_dict[keys][1]-CorePoints[corepoint_id][1])**2\\\n",
    "                        +(Cluster_dict[keys][2]-CorePoints[corepoint_id][2])**2\n",
    "                if dis < Min_dis:\n",
    "                    Min_core_id = corepoint_id\n",
    "                    Min_dis = dis\n",
    "            Next_Cluster_dict[keys] = CorePoints[Min_core_id]\n",
    "\n",
    "    for keys in Cluster_dict:\n",
    "        if keys in Next_Cluster_dict:\n",
    "            Next_Velocity_dict[keys] = [(Next_Cluster_dict[keys][0] - Cluster_dict[keys][0]) / 0.18,\n",
    "                                    (Next_Cluster_dict[keys][1] - Cluster_dict[keys][1]) / 0.18,\n",
    "                                    (Next_Cluster_dict[keys][2] - Cluster_dict[keys][2]) / 0.18]\n",
    "    \n",
    "else:\n",
    "    for corepoint_id in range(0,n_clusters_):\n",
    "        Next_Cluster_dict[corepoint_id] = CorePoints[corepoint_id]\n",
    "\n",
    "print(Next_Cluster_dict)"
   ]
  },
  {
   "cell_type": "code",
   "execution_count": 580,
   "metadata": {},
   "outputs": [],
   "source": [
    "R.trackOrientation6D(Frame_time,client1)\n",
    "R.trackOrientation6D(Frame_time,client2)\n",
    "R.getVelocity(Frame_time,client1,client2)"
   ]
  },
  {
   "cell_type": "code",
   "execution_count": null,
   "metadata": {},
   "outputs": [],
   "source": []
  }
 ],
 "metadata": {
  "kernelspec": {
   "display_name": "Python 3",
   "language": "python",
   "name": "python3"
  },
  "language_info": {
   "codemirror_mode": {
    "name": "ipython",
    "version": 3
   },
   "file_extension": ".py",
   "mimetype": "text/x-python",
   "name": "python",
   "nbconvert_exporter": "python",
   "pygments_lexer": "ipython3",
   "version": "3.8.9"
  },
  "orig_nbformat": 4,
  "vscode": {
   "interpreter": {
    "hash": "31f2aee4e71d21fbe5cf8b01ff0e069b9275f58929596ceb00d14d90e3e16cd6"
   }
  }
 },
 "nbformat": 4,
 "nbformat_minor": 2
}
