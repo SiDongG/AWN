{
 "cells": [
  {
   "cell_type": "code",
   "execution_count": 790,
   "metadata": {},
   "outputs": [],
   "source": [
    "import Radar as R\n",
    "import matplotlib.pyplot as plt\n",
    "import numpy as np\n",
    "import subprocess\n",
    "import os\n",
    "import time\n",
    "import argparse\n",
    "import pandas as pd\n",
    "import time\n",
    "from pyquaternion import Quaternion\n",
    "from numpy import genfromtxt\n",
    "import os\n",
    "from mpl_toolkits.mplot3d import Axes3D\n",
    "from sklearn.cluster import DBSCAN\n",
    "from sklearn import metrics\n",
    "import pandas as pd\n",
    "from pyquaternion import Quaternion\n",
    "from numpy.linalg import norm\n",
    "import math\n",
    "import importlib"
   ]
  },
  {
   "cell_type": "code",
   "execution_count": 791,
   "metadata": {},
   "outputs": [
    {
     "data": {
      "text/plain": [
       "<module 'Radar' from '/Users/shannonholmes/Desktop/Python Programs/AWN/Radar.py'>"
      ]
     },
     "execution_count": 791,
     "metadata": {},
     "output_type": "execute_result"
    }
   ],
   "source": [
    "importlib.reload(R)"
   ]
  },
  {
   "cell_type": "code",
   "execution_count": 792,
   "metadata": {},
   "outputs": [],
   "source": [
    "frame_num = '1'\n",
    "Frame_time = 0\n",
    "## initialization ##\n",
    "Cluster_dict = {}\n",
    "Next_Cluster_dict = {}\n",
    "Next_Velocity_dict = {}\n",
    "## KalmanFilter for Client 1\n",
    "KalmanMeasurements = np.zeros((4,1))\n",
    "KalmanP = np.zeros((4,4,1))\n",
    "Innovation = np.zeros((2,1))\n",
    "KalmanF = np.zeros((4,2,1))\n",
    "ConditionalX = np.zeros((4,1))\n",
    "ConditionalP=np.identity(4)\n",
    "\n",
    "## KalmanFilter for Client 2 \n",
    "\n",
    "KalmanMeasurements2 = np.zeros((4,1))\n",
    "KalmanP2 = np.zeros((4,4,1))\n",
    "Innovation2 = np.zeros((2,1))\n",
    "KalmanF2 = np.zeros((4,2,1))\n",
    "ConditionalX2 = np.zeros((4,1))\n",
    "ConditionalP2 = np.identity(4)\n",
    "\n",
    "x = 0\n",
    "client1 = R.client(0)\n",
    "client2 = R.client(1)\n",
    "\n",
    "Start_time = time.time()"
   ]
  },
  {
   "cell_type": "code",
   "execution_count": 793,
   "metadata": {},
   "outputs": [
    {
     "name": "stdout",
     "output_type": "stream",
     "text": [
      "DEBUG: Number of unique frames:  50\n"
     ]
    }
   ],
   "source": [
    "data_df = pd.read_csv('/Users/shannonholmes/Desktop/Python Programs/AWN/test2.csv')\n",
    "num_frames = data_df.iloc[:,1].nunique()\n",
    "print(\"DEBUG: Number of unique frames: \", num_frames)"
   ]
  },
  {
   "cell_type": "code",
   "execution_count": 794,
   "metadata": {},
   "outputs": [
    {
     "name": "stdout",
     "output_type": "stream",
     "text": [
      "13140\n"
     ]
    }
   ],
   "source": [
    "data = R.getData(data_df)\n",
    "Frame = R.rframe(frame_num,data,None,None,Start_time)"
   ]
  },
  {
   "cell_type": "code",
   "execution_count": 795,
   "metadata": {},
   "outputs": [
    {
     "name": "stdout",
     "output_type": "stream",
     "text": [
      "[0 0 0 ... 7 7 7]\n",
      "14\n"
     ]
    }
   ],
   "source": [
    "labels,n_clusters_ = Frame.getCluster()\n",
    "\n",
    "print(labels)\n",
    "print(n_clusters_)"
   ]
  },
  {
   "cell_type": "code",
   "execution_count": 796,
   "metadata": {},
   "outputs": [
    {
     "ename": "KeyError",
     "evalue": "0",
     "output_type": "error",
     "traceback": [
      "\u001b[0;31m---------------------------------------------------------------------------\u001b[0m",
      "\u001b[0;31mKeyError\u001b[0m                                  Traceback (most recent call last)",
      "File \u001b[0;32m~/Library/Python/3.8/lib/python/site-packages/pandas/core/indexes/base.py:3802\u001b[0m, in \u001b[0;36mIndex.get_loc\u001b[0;34m(self, key, method, tolerance)\u001b[0m\n\u001b[1;32m   3801\u001b[0m \u001b[39mtry\u001b[39;00m:\n\u001b[0;32m-> 3802\u001b[0m     \u001b[39mreturn\u001b[39;00m \u001b[39mself\u001b[39;49m\u001b[39m.\u001b[39;49m_engine\u001b[39m.\u001b[39;49mget_loc(casted_key)\n\u001b[1;32m   3803\u001b[0m \u001b[39mexcept\u001b[39;00m \u001b[39mKeyError\u001b[39;00m \u001b[39mas\u001b[39;00m err:\n",
      "File \u001b[0;32m~/Library/Python/3.8/lib/python/site-packages/pandas/_libs/index.pyx:138\u001b[0m, in \u001b[0;36mpandas._libs.index.IndexEngine.get_loc\u001b[0;34m()\u001b[0m\n",
      "File \u001b[0;32m~/Library/Python/3.8/lib/python/site-packages/pandas/_libs/index.pyx:165\u001b[0m, in \u001b[0;36mpandas._libs.index.IndexEngine.get_loc\u001b[0;34m()\u001b[0m\n",
      "File \u001b[0;32mpandas/_libs/hashtable_class_helper.pxi:2263\u001b[0m, in \u001b[0;36mpandas._libs.hashtable.Int64HashTable.get_item\u001b[0;34m()\u001b[0m\n",
      "File \u001b[0;32mpandas/_libs/hashtable_class_helper.pxi:2273\u001b[0m, in \u001b[0;36mpandas._libs.hashtable.Int64HashTable.get_item\u001b[0;34m()\u001b[0m\n",
      "\u001b[0;31mKeyError\u001b[0m: 0",
      "\nThe above exception was the direct cause of the following exception:\n",
      "\u001b[0;31mKeyError\u001b[0m                                  Traceback (most recent call last)",
      "Cell \u001b[0;32mIn[796], line 8\u001b[0m\n\u001b[1;32m      6\u001b[0m \u001b[39mif\u001b[39;00m labels[point] \u001b[39m!=\u001b[39m \u001b[39m-\u001b[39m\u001b[39m1\u001b[39m:\n\u001b[1;32m      7\u001b[0m     CoreNum[labels[point]] \u001b[39m=\u001b[39m CoreNum[labels[point]] \u001b[39m+\u001b[39m \u001b[39m1\u001b[39m\n\u001b[0;32m----> 8\u001b[0m     CoreSum[labels[point]][\u001b[39m0\u001b[39m] \u001b[39m=\u001b[39m CoreSum[labels[point]][\u001b[39m0\u001b[39m] \u001b[39m+\u001b[39m Frame\u001b[39m.\u001b[39;49mdata\u001b[39m.\u001b[39;49mloc[point]\u001b[39m.\u001b[39miat[\u001b[39m3\u001b[39m]\n\u001b[1;32m      9\u001b[0m     CoreSum[labels[point]][\u001b[39m1\u001b[39m] \u001b[39m=\u001b[39m CoreSum[labels[point]][\u001b[39m1\u001b[39m] \u001b[39m+\u001b[39m Frame\u001b[39m.\u001b[39mdata\u001b[39m.\u001b[39mloc[point]\u001b[39m.\u001b[39miat[\u001b[39m4\u001b[39m]\n\u001b[1;32m     10\u001b[0m     CoreSum[labels[point]][\u001b[39m2\u001b[39m] \u001b[39m=\u001b[39m CoreSum[labels[point]][\u001b[39m2\u001b[39m] \u001b[39m+\u001b[39m Frame\u001b[39m.\u001b[39mdata\u001b[39m.\u001b[39mloc[point]\u001b[39m.\u001b[39miat[\u001b[39m5\u001b[39m]\n",
      "File \u001b[0;32m~/Library/Python/3.8/lib/python/site-packages/pandas/core/indexing.py:1073\u001b[0m, in \u001b[0;36m_LocationIndexer.__getitem__\u001b[0;34m(self, key)\u001b[0m\n\u001b[1;32m   1070\u001b[0m axis \u001b[39m=\u001b[39m \u001b[39mself\u001b[39m\u001b[39m.\u001b[39maxis \u001b[39mor\u001b[39;00m \u001b[39m0\u001b[39m\n\u001b[1;32m   1072\u001b[0m maybe_callable \u001b[39m=\u001b[39m com\u001b[39m.\u001b[39mapply_if_callable(key, \u001b[39mself\u001b[39m\u001b[39m.\u001b[39mobj)\n\u001b[0;32m-> 1073\u001b[0m \u001b[39mreturn\u001b[39;00m \u001b[39mself\u001b[39;49m\u001b[39m.\u001b[39;49m_getitem_axis(maybe_callable, axis\u001b[39m=\u001b[39;49maxis)\n",
      "File \u001b[0;32m~/Library/Python/3.8/lib/python/site-packages/pandas/core/indexing.py:1312\u001b[0m, in \u001b[0;36m_LocIndexer._getitem_axis\u001b[0;34m(self, key, axis)\u001b[0m\n\u001b[1;32m   1310\u001b[0m \u001b[39m# fall thru to straight lookup\u001b[39;00m\n\u001b[1;32m   1311\u001b[0m \u001b[39mself\u001b[39m\u001b[39m.\u001b[39m_validate_key(key, axis)\n\u001b[0;32m-> 1312\u001b[0m \u001b[39mreturn\u001b[39;00m \u001b[39mself\u001b[39;49m\u001b[39m.\u001b[39;49m_get_label(key, axis\u001b[39m=\u001b[39;49maxis)\n",
      "File \u001b[0;32m~/Library/Python/3.8/lib/python/site-packages/pandas/core/indexing.py:1260\u001b[0m, in \u001b[0;36m_LocIndexer._get_label\u001b[0;34m(self, label, axis)\u001b[0m\n\u001b[1;32m   1258\u001b[0m \u001b[39mdef\u001b[39;00m \u001b[39m_get_label\u001b[39m(\u001b[39mself\u001b[39m, label, axis: \u001b[39mint\u001b[39m):\n\u001b[1;32m   1259\u001b[0m     \u001b[39m# GH#5567 this will fail if the label is not present in the axis.\u001b[39;00m\n\u001b[0;32m-> 1260\u001b[0m     \u001b[39mreturn\u001b[39;00m \u001b[39mself\u001b[39;49m\u001b[39m.\u001b[39;49mobj\u001b[39m.\u001b[39;49mxs(label, axis\u001b[39m=\u001b[39;49maxis)\n",
      "File \u001b[0;32m~/Library/Python/3.8/lib/python/site-packages/pandas/core/generic.py:4056\u001b[0m, in \u001b[0;36mNDFrame.xs\u001b[0;34m(self, key, axis, level, drop_level)\u001b[0m\n\u001b[1;32m   4054\u001b[0m             new_index \u001b[39m=\u001b[39m index[loc]\n\u001b[1;32m   4055\u001b[0m \u001b[39melse\u001b[39;00m:\n\u001b[0;32m-> 4056\u001b[0m     loc \u001b[39m=\u001b[39m index\u001b[39m.\u001b[39;49mget_loc(key)\n\u001b[1;32m   4058\u001b[0m     \u001b[39mif\u001b[39;00m \u001b[39misinstance\u001b[39m(loc, np\u001b[39m.\u001b[39mndarray):\n\u001b[1;32m   4059\u001b[0m         \u001b[39mif\u001b[39;00m loc\u001b[39m.\u001b[39mdtype \u001b[39m==\u001b[39m np\u001b[39m.\u001b[39mbool_:\n",
      "File \u001b[0;32m~/Library/Python/3.8/lib/python/site-packages/pandas/core/indexes/base.py:3804\u001b[0m, in \u001b[0;36mIndex.get_loc\u001b[0;34m(self, key, method, tolerance)\u001b[0m\n\u001b[1;32m   3802\u001b[0m     \u001b[39mreturn\u001b[39;00m \u001b[39mself\u001b[39m\u001b[39m.\u001b[39m_engine\u001b[39m.\u001b[39mget_loc(casted_key)\n\u001b[1;32m   3803\u001b[0m \u001b[39mexcept\u001b[39;00m \u001b[39mKeyError\u001b[39;00m \u001b[39mas\u001b[39;00m err:\n\u001b[0;32m-> 3804\u001b[0m     \u001b[39mraise\u001b[39;00m \u001b[39mKeyError\u001b[39;00m(key) \u001b[39mfrom\u001b[39;00m \u001b[39merr\u001b[39;00m\n\u001b[1;32m   3805\u001b[0m \u001b[39mexcept\u001b[39;00m \u001b[39mTypeError\u001b[39;00m:\n\u001b[1;32m   3806\u001b[0m     \u001b[39m# If we have a listlike key, _check_indexing_error will raise\u001b[39;00m\n\u001b[1;32m   3807\u001b[0m     \u001b[39m#  InvalidIndexError. Otherwise we fall through and re-raise\u001b[39;00m\n\u001b[1;32m   3808\u001b[0m     \u001b[39m#  the TypeError.\u001b[39;00m\n\u001b[1;32m   3809\u001b[0m     \u001b[39mself\u001b[39m\u001b[39m.\u001b[39m_check_indexing_error(key)\n",
      "\u001b[0;31mKeyError\u001b[0m: 0"
     ]
    }
   ],
   "source": [
    "CorePoints = np.zeros((n_clusters_,3))\n",
    "CoreNum = np.zeros((n_clusters_))\n",
    "CoreSum = np.zeros((n_clusters_,3))\n",
    "\n",
    "for point in range(0,len(Frame.data)):\n",
    "    if labels[point] != -1:\n",
    "        CoreNum[labels[point]] = CoreNum[labels[point]] + 1\n",
    "        CoreSum[labels[point]][0] = CoreSum[labels[point]][0] + Frame.data.loc[point].iat[3]\n",
    "        CoreSum[labels[point]][1] = CoreSum[labels[point]][1] + Frame.data.loc[point].iat[4]\n",
    "        CoreSum[labels[point]][2] = CoreSum[labels[point]][2] + Frame.data.loc[point].iat[5]\n",
    "\n",
    "for corepoint_id in range(0,n_clusters_):\n",
    "    CorePoints[corepoint_id] = CoreSum[corepoint_id]/CoreNum[corepoint_id]"
   ]
  },
  {
   "cell_type": "code",
   "execution_count": null,
   "metadata": {},
   "outputs": [
    {
     "name": "stdout",
     "output_type": "stream",
     "text": [
      "{0: array([ 0.60522164,  2.13589176, -0.9105395 ]), 1: array([ 1.57118226,  5.98173742, -0.45831769]), 2: array([ 0.47821276,  4.62249707, -0.88735821]), 3: array([0.58591127, 3.29079695, 1.81936381])}\n"
     ]
    }
   ],
   "source": [
    "Cluster_dict = Next_Cluster_dict.copy()\n",
    "\n",
    "Next_Cluster_dict = {}\n",
    "\n",
    "if Cluster_dict:\n",
    "    if len(Cluster_dict) >= n_clusters_:\n",
    "        for corepoint_id in range (0,n_clusters_):\n",
    "            Min_dis = 100\n",
    "            Min_key = 100\n",
    "            for keys in Cluster_dict:\n",
    "                dis = (Cluster_dict[keys][0]-CorePoints[corepoint_id][0])**2+(Cluster_dict[keys][1]-CorePoints[corepoint_id][1])**2\\\n",
    "                        +(Cluster_dict[keys][2]-CorePoints[corepoint_id][2])**2\n",
    "                if dis < Min_dis:\n",
    "                    Min_key = keys\n",
    "                    Min_dis = dis\n",
    "            Next_Cluster_dict[Min_key] = CorePoints[corepoint_id]\n",
    "    elif len(Cluster_dict) < n_clusters_:\n",
    "        for keys in Cluster_dict:\n",
    "            Min_dis = 100\n",
    "            Min_core_id = 100\n",
    "            for corepoint_id in range(0,n_clusters_):\n",
    "                dis = (Cluster_dict[keys][0]-CorePoints[corepoint_id][0])**2+(Cluster_dict[keys][1]-CorePoints[corepoint_id][1])**2\\\n",
    "                        +(Cluster_dict[keys][2]-CorePoints[corepoint_id][2])**2\n",
    "                if dis < Min_dis:\n",
    "                    Min_core_id = corepoint_id\n",
    "                    Min_dis = dis\n",
    "            Next_Cluster_dict[keys] = CorePoints[Min_core_id]\n",
    "\n",
    "    for keys in Cluster_dict:\n",
    "        if keys in Next_Cluster_dict:\n",
    "            Next_Velocity_dict[keys] = [(Next_Cluster_dict[keys][0] - Cluster_dict[keys][0]) / 0.18,\n",
    "                                    (Next_Cluster_dict[keys][1] - Cluster_dict[keys][1]) / 0.18,\n",
    "                                    (Next_Cluster_dict[keys][2] - Cluster_dict[keys][2]) / 0.18]\n",
    "    \n",
    "else:\n",
    "    for corepoint_id in range(0,n_clusters_):\n",
    "        Next_Cluster_dict[corepoint_id] = CorePoints[corepoint_id]\n",
    "\n",
    "print(Next_Cluster_dict)"
   ]
  },
  {
   "cell_type": "code",
   "execution_count": null,
   "metadata": {},
   "outputs": [],
   "source": [
    "R.trackOrientation6D(Frame_time,client1)\n",
    "R.trackOrientation6D(Frame_time,client2)\n",
    "R.getVelocity(Frame_time,client1,client2)"
   ]
  },
  {
   "cell_type": "code",
   "execution_count": null,
   "metadata": {},
   "outputs": [
    {
     "name": "stdout",
     "output_type": "stream",
     "text": [
      "{}\n"
     ]
    }
   ],
   "source": [
    "R.quaternion_to_euler(client1)\n",
    "R.quaternion_to_euler(client2)\n",
    "print(Next_Velocity_dict)"
   ]
  },
  {
   "cell_type": "code",
   "execution_count": null,
   "metadata": {},
   "outputs": [],
   "source": [
    "client1_id = Frame.findrouter(client1, Microframe, Next_Velocity_dict)\n",
    "client2_id = Frame.findrouter(client2, Microframe, Next_Velocity_dict)\n",
    "\n",
    "client1.id = 0\n",
    "client2.id = 1"
   ]
  },
  {
   "cell_type": "code",
   "execution_count": null,
   "metadata": {},
   "outputs": [
    {
     "name": "stdout",
     "output_type": "stream",
     "text": [
      "[0.48417731]\n",
      "[1.25694581]\n"
     ]
    }
   ],
   "source": [
    "KalmanMeasurements,KalmanP,Innovation,KalmanF,ConditionalX,ConditionalP = Frame.kalmanFilter\\\n",
    "             (client1,Next_Cluster_dict,KalmanMeasurements,KalmanP,Innovation,KalmanF,ConditionalX,ConditionalP)\n",
    "        \n",
    "KalmanMeasurements2,KalmanP2,Innovation2,KalmanF2,ConditionalX2,ConditionalP2 = Frame.kalmanFilter\\\n",
    "        (client2,Next_Cluster_dict,KalmanMeasurements2,KalmanP2,Innovation2,KalmanF2,ConditionalX2,ConditionalP2)\n",
    "\n",
    "print(client1.x)\n",
    "print(client2.x)"
   ]
  },
  {
   "cell_type": "code",
   "execution_count": null,
   "metadata": {},
   "outputs": [],
   "source": [
    "Theta = Frame.getEstimate (client1,client2) "
   ]
  },
  {
   "cell_type": "code",
   "execution_count": null,
   "metadata": {},
   "outputs": [
    {
     "name": "stdout",
     "output_type": "stream",
     "text": [
      "Can beamform\n",
      "Left side of center\n"
     ]
    }
   ],
   "source": [
    "Beamangle = R.beamform_angle(Theta,client1)"
   ]
  }
 ],
 "metadata": {
  "kernelspec": {
   "display_name": "Python 3",
   "language": "python",
   "name": "python3"
  },
  "language_info": {
   "codemirror_mode": {
    "name": "ipython",
    "version": 3
   },
   "file_extension": ".py",
   "mimetype": "text/x-python",
   "name": "python",
   "nbconvert_exporter": "python",
   "pygments_lexer": "ipython3",
   "version": "3.8.9"
  },
  "orig_nbformat": 4,
  "vscode": {
   "interpreter": {
    "hash": "31f2aee4e71d21fbe5cf8b01ff0e069b9275f58929596ceb00d14d90e3e16cd6"
   }
  }
 },
 "nbformat": 4,
 "nbformat_minor": 2
}
